{
 "cells": [
  {
   "cell_type": "code",
   "execution_count": 1,
   "metadata": {},
   "outputs": [
    {
     "name": "stdout",
     "output_type": "stream",
     "text": [
      "5\n"
     ]
    }
   ],
   "source": [
    "str1 =\"what we think we become we are python programmers\"\n",
    "for each in str1:\n",
    "    if each==\"we\":\n",
    "        continue\n",
    "    print(str1.find(\"we\"))\n",
    "    break\n",
    "    \n",
    "        "
   ]
  },
  {
   "cell_type": "code",
   "execution_count": 2,
   "metadata": {},
   "outputs": [
    {
     "name": "stdout",
     "output_type": "stream",
     "text": [
      "swapnali\n",
      "shreya\n"
     ]
    }
   ],
   "source": [
    "list1=[\"swapnali\",\"Swarali\",\"shreya\",\"Sakshi\"]\n",
    "for each in list1:\n",
    "    if each.islower():\n",
    "        print(each)"
   ]
  },
  {
   "cell_type": "code",
   "execution_count": 3,
   "metadata": {},
   "outputs": [
    {
     "name": "stdout",
     "output_type": "stream",
     "text": [
      "SWARALI\n",
      "SAKSHI\n"
     ]
    }
   ],
   "source": [
    "list2=[\"swapnali\",\"SWARALI\",\"shreya\",\"SAKSHI\"]\n",
    "for each in list2:\n",
    "    if each.isupper():\n",
    "        print(each)"
   ]
  },
  {
   "cell_type": "code",
   "execution_count": null,
   "metadata": {},
   "outputs": [],
   "source": []
  }
 ],
 "metadata": {
  "kernelspec": {
   "display_name": "Python 3",
   "language": "python",
   "name": "python3"
  },
  "language_info": {
   "codemirror_mode": {
    "name": "ipython",
    "version": 3
   },
   "file_extension": ".py",
   "mimetype": "text/x-python",
   "name": "python",
   "nbconvert_exporter": "python",
   "pygments_lexer": "ipython3",
   "version": "3.7.6"
  }
 },
 "nbformat": 4,
 "nbformat_minor": 4
}
