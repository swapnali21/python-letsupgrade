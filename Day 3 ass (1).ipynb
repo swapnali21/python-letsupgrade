{
 "cells": [
  {
   "cell_type": "markdown",
   "metadata": {},
   "source": [
    "# prime no or not"
   ]
  },
  {
   "cell_type": "code",
   "execution_count": 54,
   "metadata": {},
   "outputs": [
    {
     "name": "stdout",
     "output_type": "stream",
     "text": [
      "enter the no12\n",
      "12 not prime\n"
     ]
    }
   ],
   "source": [
    "num1=int(input(\"enter the no\"))\n",
    "if num1>1:\n",
    "     for i  in range(2,num1):\n",
    "        if(num1%i)==0:\n",
    "            print(num1,\"not prime\")\n",
    "            break\n",
    "        else:\n",
    "            print(num1,\"prime\")\n",
    "else:\n",
    "    print(num1,\"not prime\")"
   ]
  },
  {
   "cell_type": "markdown",
   "metadata": {},
   "source": [
    "# sum of n numbers"
   ]
  },
  {
   "cell_type": "code",
   "execution_count": null,
   "metadata": {},
   "outputs": [],
   "source": [
    "sum1=0\n",
    "flag1=1\n",
    "    while flag1==1:\n",
    "        num2=int(input(\"enter no\"))\n",
    "        sum1=sum1+num2\n",
    "        print(sum1)\n",
    "        if num2==0:\n",
    "            flag1=0\n",
    "    \n",
    "    "
   ]
  },
  {
   "cell_type": "code",
   "execution_count": null,
   "metadata": {},
   "outputs": [],
   "source": []
  }
 ],
 "metadata": {
  "kernelspec": {
   "display_name": "Python 3",
   "language": "python",
   "name": "python3"
  },
  "language_info": {
   "codemirror_mode": {
    "name": "ipython",
    "version": 3
   },
   "file_extension": ".py",
   "mimetype": "text/x-python",
   "name": "python",
   "nbconvert_exporter": "python",
   "pygments_lexer": "ipython3",
   "version": "3.7.6"
  }
 },
 "nbformat": 4,
 "nbformat_minor": 4
}
